{
 "cells": [
  {
   "cell_type": "markdown",
   "metadata": {},
   "source": [
    "## Generating Summary Data\n",
    "Note: This notebook is just a demo showing how the summary data generating code uses the raw data objects to generate the sum data objects.\n",
    "To use them directly the data is directly available on the repository "
   ]
  },
  {
   "cell_type": "code",
   "execution_count": 12,
   "metadata": {},
   "outputs": [],
   "source": [
    "import pandas as pd\n",
    "import numpy as np\n",
    "import matplotlib.pyplot as plt\n",
    "import os\n",
    "import json\n",
    "import re\n",
    "from tqdm import tqdm\n",
    "import sys\n",
    "from scipy.interpolate import interp1d\n",
    "\n",
    "\n",
    "#This will remove the .iloc usage warning which is a future warning in pandas but irrelevant\n",
    "import warnings\n",
    "warnings.simplefilter(action='ignore', category=FutureWarning)"
   ]
  },
  {
   "cell_type": "code",
   "execution_count": 13,
   "metadata": {},
   "outputs": [],
   "source": [
    "code_path = \"../structuring_code/\"\n",
    "sys.path.insert(0, code_path)\n",
    "from Joule_sum_data_builder import generate_sum_data_cell_id, generate_sum_data, load_sum_obj\n",
    "\n"
   ]
  },
  {
   "cell_type": "code",
   "execution_count": 14,
   "metadata": {},
   "outputs": [],
   "source": [
    "#Example of generating summary data for one cell\n",
    "cell_id = \"C00001\"\n",
    "raw_path = \"../../joule_declass_raw/\"\n",
    "cell_type = \"Panasonic NCR18650GA\"\n",
    "sum_obj = generate_sum_data_cell_id(cell_id, raw_path, cell_type)"
   ]
  },
  {
   "cell_type": "code",
   "execution_count": 7,
   "metadata": {},
   "outputs": [
    {
     "data": {
      "text/plain": [
       "nan"
      ]
     },
     "execution_count": 7,
     "metadata": {},
     "output_type": "execute_result"
    }
   ],
   "source": [
    "sum_obj.comment"
   ]
  },
  {
   "cell_type": "code",
   "execution_count": 8,
   "metadata": {},
   "outputs": [
    {
     "data": {
      "text/plain": [
       "{'M00': {'DateTime': '2016-01-08', 'ChannelNumber': '47', 'Cycler': 'D1'},\n",
       " 'M06': {'DateTime': '2016-07-11', 'ChannelNumber': '48', 'Cycler': 'D1'},\n",
       " 'M12': {'DateTime': '2017-01-20', 'ChannelNumber': '47', 'Cycler': 'D1'},\n",
       " 'M18': {'DateTime': '2017-07-24', 'ChannelNumber': '13', 'Cycler': 'D1'},\n",
       " 'M24': {'DateTime': '2018-01-26', 'ChannelNumber': '32', 'Cycler': 'D1'},\n",
       " 'M30': {'DateTime': '2018-07-31', 'ChannelNumber': '37', 'Cycler': 'D1'},\n",
       " 'M36': {'DateTime': '2019-02-05', 'ChannelNumber': '37', 'Cycler': 'D1'},\n",
       " 'M42': {'DateTime': '2019-08-08', 'ChannelNumber': '43', 'Cycler': 'D1'},\n",
       " 'M48': {'DateTime': '2020-02-11', 'ChannelNumber': '43', 'Cycler': 'D1'},\n",
       " 'M57': {'DateTime': '2020-11-20', 'ChannelNumber': '37', 'Cycler': 'D1'},\n",
       " 'M63': {'DateTime': '2021-05-24', 'ChannelNumber': '43', 'Cycler': 'D1'},\n",
       " 'M69': {'DateTime': '2021-11-29', 'ChannelNumber': '38', 'Cycler': 'D1'}}"
      ]
     },
     "execution_count": 8,
     "metadata": {},
     "output_type": "execute_result"
    }
   ],
   "source": [
    "sum_obj.meta_data"
   ]
  },
  {
   "cell_type": "code",
   "execution_count": 10,
   "metadata": {},
   "outputs": [
    {
     "data": {
      "text/html": [
       "<div>\n",
       "<style scoped>\n",
       "    .dataframe tbody tr th:only-of-type {\n",
       "        vertical-align: middle;\n",
       "    }\n",
       "\n",
       "    .dataframe tbody tr th {\n",
       "        vertical-align: top;\n",
       "    }\n",
       "\n",
       "    .dataframe thead th {\n",
       "        text-align: right;\n",
       "    }\n",
       "</style>\n",
       "<table border=\"1\" class=\"dataframe\">\n",
       "  <thead>\n",
       "    <tr style=\"text-align: right;\">\n",
       "      <th></th>\n",
       "      <th>RPT0.2C_0_C_capacity</th>\n",
       "      <th>RPT0.2C_0_C_CV_capacity</th>\n",
       "      <th>RPT0.2C_0_D_capacity</th>\n",
       "      <th>RPT0.2C_1_C_capacity</th>\n",
       "      <th>RPT0.2C_1_C_CV_capacity</th>\n",
       "      <th>RPT0.2C_1_D_capacity</th>\n",
       "      <th>RPT0.2C_2_C_capacity</th>\n",
       "      <th>RPT0.2C_2_C_CV_capacity</th>\n",
       "      <th>RPT0.2C_2_D_capacity</th>\n",
       "      <th>RPT_HighC_0_C_capacity</th>\n",
       "      <th>...</th>\n",
       "      <th>RPT_HighC_1_D_energy</th>\n",
       "      <th>RPT_HighC_2_C_energy</th>\n",
       "      <th>RPT_HighC_5_C_CV_energy</th>\n",
       "      <th>RPT_HighC_2_D_energy</th>\n",
       "      <th>diag_num</th>\n",
       "      <th>Calendar_Time(date)</th>\n",
       "      <th>Res_SS_0_D</th>\n",
       "      <th>Res_SS_1_D</th>\n",
       "      <th>Res_SS_2_D</th>\n",
       "      <th>Calendar_DateTime(days)</th>\n",
       "    </tr>\n",
       "  </thead>\n",
       "  <tbody>\n",
       "    <tr>\n",
       "      <th>0</th>\n",
       "      <td>3.06490</td>\n",
       "      <td>3.27140</td>\n",
       "      <td>3.26567</td>\n",
       "      <td>3.05664</td>\n",
       "      <td>3.26673</td>\n",
       "      <td>3.26142</td>\n",
       "      <td>3.06073</td>\n",
       "      <td>3.26281</td>\n",
       "      <td>3.25981</td>\n",
       "      <td>3.06960</td>\n",
       "      <td>...</td>\n",
       "      <td>11.05830</td>\n",
       "      <td>11.28116</td>\n",
       "      <td>12.20614</td>\n",
       "      <td>11.06555</td>\n",
       "      <td>0</td>\n",
       "      <td>2016-01-08</td>\n",
       "      <td>0.216114</td>\n",
       "      <td>0.215845</td>\n",
       "      <td>0.213771</td>\n",
       "      <td>0</td>\n",
       "    </tr>\n",
       "    <tr>\n",
       "      <th>1</th>\n",
       "      <td>3.00135</td>\n",
       "      <td>3.21916</td>\n",
       "      <td>3.21371</td>\n",
       "      <td>3.00515</td>\n",
       "      <td>3.21752</td>\n",
       "      <td>3.21689</td>\n",
       "      <td>2.99951</td>\n",
       "      <td>3.21597</td>\n",
       "      <td>3.21361</td>\n",
       "      <td>3.00904</td>\n",
       "      <td>...</td>\n",
       "      <td>10.92491</td>\n",
       "      <td>11.32018</td>\n",
       "      <td>12.05216</td>\n",
       "      <td>10.90556</td>\n",
       "      <td>1</td>\n",
       "      <td>2016-07-11</td>\n",
       "      <td>0.216050</td>\n",
       "      <td>0.217387</td>\n",
       "      <td>0.218215</td>\n",
       "      <td>185</td>\n",
       "    </tr>\n",
       "    <tr>\n",
       "      <th>2</th>\n",
       "      <td>2.99260</td>\n",
       "      <td>3.19437</td>\n",
       "      <td>3.18884</td>\n",
       "      <td>2.99356</td>\n",
       "      <td>3.19004</td>\n",
       "      <td>3.18806</td>\n",
       "      <td>2.99326</td>\n",
       "      <td>3.18867</td>\n",
       "      <td>3.18541</td>\n",
       "      <td>3.00652</td>\n",
       "      <td>...</td>\n",
       "      <td>10.87265</td>\n",
       "      <td>11.28019</td>\n",
       "      <td>11.97185</td>\n",
       "      <td>10.85905</td>\n",
       "      <td>2</td>\n",
       "      <td>2017-01-20</td>\n",
       "      <td>0.217333</td>\n",
       "      <td>0.217432</td>\n",
       "      <td>0.218660</td>\n",
       "      <td>378</td>\n",
       "    </tr>\n",
       "    <tr>\n",
       "      <th>3</th>\n",
       "      <td>2.93640</td>\n",
       "      <td>3.15325</td>\n",
       "      <td>3.15175</td>\n",
       "      <td>2.99699</td>\n",
       "      <td>3.15760</td>\n",
       "      <td>3.15084</td>\n",
       "      <td>2.94458</td>\n",
       "      <td>3.14501</td>\n",
       "      <td>3.14480</td>\n",
       "      <td>2.95125</td>\n",
       "      <td>...</td>\n",
       "      <td>10.69672</td>\n",
       "      <td>11.09099</td>\n",
       "      <td>11.82343</td>\n",
       "      <td>10.69601</td>\n",
       "      <td>3</td>\n",
       "      <td>2017-07-24</td>\n",
       "      <td>0.227568</td>\n",
       "      <td>0.230571</td>\n",
       "      <td>0.226133</td>\n",
       "      <td>563</td>\n",
       "    </tr>\n",
       "    <tr>\n",
       "      <th>4</th>\n",
       "      <td>2.93380</td>\n",
       "      <td>3.13010</td>\n",
       "      <td>3.12949</td>\n",
       "      <td>2.94029</td>\n",
       "      <td>3.13000</td>\n",
       "      <td>3.12945</td>\n",
       "      <td>2.94295</td>\n",
       "      <td>3.12654</td>\n",
       "      <td>3.12676</td>\n",
       "      <td>2.94109</td>\n",
       "      <td>...</td>\n",
       "      <td>10.65683</td>\n",
       "      <td>10.85057</td>\n",
       "      <td>11.76500</td>\n",
       "      <td>10.64548</td>\n",
       "      <td>4</td>\n",
       "      <td>2018-01-26</td>\n",
       "      <td>0.227306</td>\n",
       "      <td>0.228109</td>\n",
       "      <td>0.226966</td>\n",
       "      <td>749</td>\n",
       "    </tr>\n",
       "    <tr>\n",
       "      <th>5</th>\n",
       "      <td>2.88183</td>\n",
       "      <td>3.10639</td>\n",
       "      <td>3.10582</td>\n",
       "      <td>2.88501</td>\n",
       "      <td>3.10586</td>\n",
       "      <td>3.10364</td>\n",
       "      <td>2.88481</td>\n",
       "      <td>3.10149</td>\n",
       "      <td>3.10127</td>\n",
       "      <td>2.88487</td>\n",
       "      <td>...</td>\n",
       "      <td>10.57019</td>\n",
       "      <td>10.87356</td>\n",
       "      <td>11.67963</td>\n",
       "      <td>10.55978</td>\n",
       "      <td>5</td>\n",
       "      <td>2018-07-31</td>\n",
       "      <td>0.231493</td>\n",
       "      <td>0.230497</td>\n",
       "      <td>0.230807</td>\n",
       "      <td>935</td>\n",
       "    </tr>\n",
       "    <tr>\n",
       "      <th>6</th>\n",
       "      <td>2.88112</td>\n",
       "      <td>3.07767</td>\n",
       "      <td>3.07412</td>\n",
       "      <td>2.88712</td>\n",
       "      <td>3.07816</td>\n",
       "      <td>3.07594</td>\n",
       "      <td>2.88673</td>\n",
       "      <td>3.07767</td>\n",
       "      <td>3.07564</td>\n",
       "      <td>2.88650</td>\n",
       "      <td>...</td>\n",
       "      <td>10.46932</td>\n",
       "      <td>10.64401</td>\n",
       "      <td>11.59373</td>\n",
       "      <td>10.47135</td>\n",
       "      <td>6</td>\n",
       "      <td>2019-02-05</td>\n",
       "      <td>0.233090</td>\n",
       "      <td>0.234371</td>\n",
       "      <td>0.233381</td>\n",
       "      <td>1124</td>\n",
       "    </tr>\n",
       "    <tr>\n",
       "      <th>7</th>\n",
       "      <td>2.82240</td>\n",
       "      <td>3.03598</td>\n",
       "      <td>3.03451</td>\n",
       "      <td>2.82903</td>\n",
       "      <td>3.03901</td>\n",
       "      <td>3.03737</td>\n",
       "      <td>2.82646</td>\n",
       "      <td>3.03468</td>\n",
       "      <td>3.03410</td>\n",
       "      <td>2.82832</td>\n",
       "      <td>...</td>\n",
       "      <td>10.35401</td>\n",
       "      <td>10.62470</td>\n",
       "      <td>11.47130</td>\n",
       "      <td>10.34340</td>\n",
       "      <td>7</td>\n",
       "      <td>2019-08-08</td>\n",
       "      <td>0.233748</td>\n",
       "      <td>0.235947</td>\n",
       "      <td>0.235460</td>\n",
       "      <td>1308</td>\n",
       "    </tr>\n",
       "    <tr>\n",
       "      <th>8</th>\n",
       "      <td>2.82392</td>\n",
       "      <td>3.01904</td>\n",
       "      <td>3.01811</td>\n",
       "      <td>2.82849</td>\n",
       "      <td>3.02075</td>\n",
       "      <td>3.01967</td>\n",
       "      <td>2.82724</td>\n",
       "      <td>3.02058</td>\n",
       "      <td>3.01964</td>\n",
       "      <td>2.82704</td>\n",
       "      <td>...</td>\n",
       "      <td>10.29227</td>\n",
       "      <td>10.62947</td>\n",
       "      <td>11.41638</td>\n",
       "      <td>10.30237</td>\n",
       "      <td>8</td>\n",
       "      <td>2020-02-11</td>\n",
       "      <td>0.233552</td>\n",
       "      <td>0.238221</td>\n",
       "      <td>0.235436</td>\n",
       "      <td>1495</td>\n",
       "    </tr>\n",
       "    <tr>\n",
       "      <th>9</th>\n",
       "      <td>2.76867</td>\n",
       "      <td>2.99873</td>\n",
       "      <td>2.99845</td>\n",
       "      <td>2.77105</td>\n",
       "      <td>3.00111</td>\n",
       "      <td>3.00036</td>\n",
       "      <td>2.77023</td>\n",
       "      <td>2.99905</td>\n",
       "      <td>2.99850</td>\n",
       "      <td>2.76896</td>\n",
       "      <td>...</td>\n",
       "      <td>10.21205</td>\n",
       "      <td>10.42422</td>\n",
       "      <td>11.32989</td>\n",
       "      <td>10.20665</td>\n",
       "      <td>9</td>\n",
       "      <td>2020-11-20</td>\n",
       "      <td>0.240120</td>\n",
       "      <td>0.242087</td>\n",
       "      <td>0.241842</td>\n",
       "      <td>1778</td>\n",
       "    </tr>\n",
       "    <tr>\n",
       "      <th>10</th>\n",
       "      <td>2.76718</td>\n",
       "      <td>2.97986</td>\n",
       "      <td>2.97944</td>\n",
       "      <td>2.76988</td>\n",
       "      <td>2.98276</td>\n",
       "      <td>2.98269</td>\n",
       "      <td>2.76878</td>\n",
       "      <td>2.98065</td>\n",
       "      <td>2.97953</td>\n",
       "      <td>2.76916</td>\n",
       "      <td>...</td>\n",
       "      <td>10.14952</td>\n",
       "      <td>10.42996</td>\n",
       "      <td>11.26216</td>\n",
       "      <td>10.13278</td>\n",
       "      <td>10</td>\n",
       "      <td>2021-05-24</td>\n",
       "      <td>0.241352</td>\n",
       "      <td>0.244513</td>\n",
       "      <td>0.244379</td>\n",
       "      <td>1963</td>\n",
       "    </tr>\n",
       "    <tr>\n",
       "      <th>11</th>\n",
       "      <td>2.76727</td>\n",
       "      <td>2.96722</td>\n",
       "      <td>2.96602</td>\n",
       "      <td>2.76915</td>\n",
       "      <td>2.96779</td>\n",
       "      <td>2.96685</td>\n",
       "      <td>2.76943</td>\n",
       "      <td>2.96692</td>\n",
       "      <td>2.96524</td>\n",
       "      <td>2.76880</td>\n",
       "      <td>...</td>\n",
       "      <td>10.07878</td>\n",
       "      <td>10.19952</td>\n",
       "      <td>11.19916</td>\n",
       "      <td>10.07842</td>\n",
       "      <td>11</td>\n",
       "      <td>2021-11-29</td>\n",
       "      <td>0.245037</td>\n",
       "      <td>0.248316</td>\n",
       "      <td>0.247673</td>\n",
       "      <td>2152</td>\n",
       "    </tr>\n",
       "  </tbody>\n",
       "</table>\n",
       "<p>12 rows × 42 columns</p>\n",
       "</div>"
      ],
      "text/plain": [
       "    RPT0.2C_0_C_capacity  RPT0.2C_0_C_CV_capacity  RPT0.2C_0_D_capacity  \\\n",
       "0                3.06490                  3.27140               3.26567   \n",
       "1                3.00135                  3.21916               3.21371   \n",
       "2                2.99260                  3.19437               3.18884   \n",
       "3                2.93640                  3.15325               3.15175   \n",
       "4                2.93380                  3.13010               3.12949   \n",
       "5                2.88183                  3.10639               3.10582   \n",
       "6                2.88112                  3.07767               3.07412   \n",
       "7                2.82240                  3.03598               3.03451   \n",
       "8                2.82392                  3.01904               3.01811   \n",
       "9                2.76867                  2.99873               2.99845   \n",
       "10               2.76718                  2.97986               2.97944   \n",
       "11               2.76727                  2.96722               2.96602   \n",
       "\n",
       "    RPT0.2C_1_C_capacity  RPT0.2C_1_C_CV_capacity  RPT0.2C_1_D_capacity  \\\n",
       "0                3.05664                  3.26673               3.26142   \n",
       "1                3.00515                  3.21752               3.21689   \n",
       "2                2.99356                  3.19004               3.18806   \n",
       "3                2.99699                  3.15760               3.15084   \n",
       "4                2.94029                  3.13000               3.12945   \n",
       "5                2.88501                  3.10586               3.10364   \n",
       "6                2.88712                  3.07816               3.07594   \n",
       "7                2.82903                  3.03901               3.03737   \n",
       "8                2.82849                  3.02075               3.01967   \n",
       "9                2.77105                  3.00111               3.00036   \n",
       "10               2.76988                  2.98276               2.98269   \n",
       "11               2.76915                  2.96779               2.96685   \n",
       "\n",
       "    RPT0.2C_2_C_capacity  RPT0.2C_2_C_CV_capacity  RPT0.2C_2_D_capacity  \\\n",
       "0                3.06073                  3.26281               3.25981   \n",
       "1                2.99951                  3.21597               3.21361   \n",
       "2                2.99326                  3.18867               3.18541   \n",
       "3                2.94458                  3.14501               3.14480   \n",
       "4                2.94295                  3.12654               3.12676   \n",
       "5                2.88481                  3.10149               3.10127   \n",
       "6                2.88673                  3.07767               3.07564   \n",
       "7                2.82646                  3.03468               3.03410   \n",
       "8                2.82724                  3.02058               3.01964   \n",
       "9                2.77023                  2.99905               2.99850   \n",
       "10               2.76878                  2.98065               2.97953   \n",
       "11               2.76943                  2.96692               2.96524   \n",
       "\n",
       "    RPT_HighC_0_C_capacity  ...  RPT_HighC_1_D_energy  RPT_HighC_2_C_energy  \\\n",
       "0                  3.06960  ...              11.05830              11.28116   \n",
       "1                  3.00904  ...              10.92491              11.32018   \n",
       "2                  3.00652  ...              10.87265              11.28019   \n",
       "3                  2.95125  ...              10.69672              11.09099   \n",
       "4                  2.94109  ...              10.65683              10.85057   \n",
       "5                  2.88487  ...              10.57019              10.87356   \n",
       "6                  2.88650  ...              10.46932              10.64401   \n",
       "7                  2.82832  ...              10.35401              10.62470   \n",
       "8                  2.82704  ...              10.29227              10.62947   \n",
       "9                  2.76896  ...              10.21205              10.42422   \n",
       "10                 2.76916  ...              10.14952              10.42996   \n",
       "11                 2.76880  ...              10.07878              10.19952   \n",
       "\n",
       "    RPT_HighC_5_C_CV_energy  RPT_HighC_2_D_energy  diag_num  \\\n",
       "0                  12.20614              11.06555         0   \n",
       "1                  12.05216              10.90556         1   \n",
       "2                  11.97185              10.85905         2   \n",
       "3                  11.82343              10.69601         3   \n",
       "4                  11.76500              10.64548         4   \n",
       "5                  11.67963              10.55978         5   \n",
       "6                  11.59373              10.47135         6   \n",
       "7                  11.47130              10.34340         7   \n",
       "8                  11.41638              10.30237         8   \n",
       "9                  11.32989              10.20665         9   \n",
       "10                 11.26216              10.13278        10   \n",
       "11                 11.19916              10.07842        11   \n",
       "\n",
       "    Calendar_Time(date)  Res_SS_0_D  Res_SS_1_D  Res_SS_2_D  \\\n",
       "0            2016-01-08    0.216114    0.215845    0.213771   \n",
       "1            2016-07-11    0.216050    0.217387    0.218215   \n",
       "2            2017-01-20    0.217333    0.217432    0.218660   \n",
       "3            2017-07-24    0.227568    0.230571    0.226133   \n",
       "4            2018-01-26    0.227306    0.228109    0.226966   \n",
       "5            2018-07-31    0.231493    0.230497    0.230807   \n",
       "6            2019-02-05    0.233090    0.234371    0.233381   \n",
       "7            2019-08-08    0.233748    0.235947    0.235460   \n",
       "8            2020-02-11    0.233552    0.238221    0.235436   \n",
       "9            2020-11-20    0.240120    0.242087    0.241842   \n",
       "10           2021-05-24    0.241352    0.244513    0.244379   \n",
       "11           2021-11-29    0.245037    0.248316    0.247673   \n",
       "\n",
       "    Calendar_DateTime(days)  \n",
       "0                         0  \n",
       "1                       185  \n",
       "2                       378  \n",
       "3                       563  \n",
       "4                       749  \n",
       "5                       935  \n",
       "6                      1124  \n",
       "7                      1308  \n",
       "8                      1495  \n",
       "9                      1778  \n",
       "10                     1963  \n",
       "11                     2152  \n",
       "\n",
       "[12 rows x 42 columns]"
      ]
     },
     "execution_count": 10,
     "metadata": {},
     "output_type": "execute_result"
    }
   ],
   "source": [
    "sum_obj.summary_data"
   ]
  },
  {
   "cell_type": "code",
   "execution_count": 17,
   "metadata": {},
   "outputs": [
    {
     "data": {
      "text/plain": [
       "Index(['RPT0.2C_0_C_capacity', 'RPT0.2C_0_C_CV_capacity',\n",
       "       'RPT0.2C_0_D_capacity', 'RPT0.2C_1_C_capacity',\n",
       "       'RPT0.2C_1_C_CV_capacity', 'RPT0.2C_1_D_capacity',\n",
       "       'RPT0.2C_2_C_capacity', 'RPT0.2C_2_C_CV_capacity',\n",
       "       'RPT0.2C_2_D_capacity', 'RPT_HighC_0_C_capacity',\n",
       "       'RPT_HighC_3_C_CV_capacity', 'RPT_HighC_0_D_capacity',\n",
       "       'RPT_HighC_1_C_capacity', 'RPT_HighC_4_C_CV_capacity',\n",
       "       'RPT_HighC_1_D_capacity', 'RPT_HighC_2_C_capacity',\n",
       "       'RPT_HighC_5_C_CV_capacity', 'RPT_HighC_2_D_capacity',\n",
       "       'RPT0.2C_0_C_energy', 'RPT0.2C_0_C_CV_energy', 'RPT0.2C_0_D_energy',\n",
       "       'RPT0.2C_1_C_energy', 'RPT0.2C_1_C_CV_energy', 'RPT0.2C_1_D_energy',\n",
       "       'RPT0.2C_2_C_energy', 'RPT0.2C_2_C_CV_energy', 'RPT0.2C_2_D_energy',\n",
       "       'RPT_HighC_0_C_energy', 'RPT_HighC_3_C_CV_energy',\n",
       "       'RPT_HighC_0_D_energy', 'RPT_HighC_1_C_energy',\n",
       "       'RPT_HighC_4_C_CV_energy', 'RPT_HighC_1_D_energy',\n",
       "       'RPT_HighC_2_C_energy', 'RPT_HighC_5_C_CV_energy',\n",
       "       'RPT_HighC_2_D_energy', 'diag_num', 'Calendar_Time(date)', 'Res_SS_0_D',\n",
       "       'Res_SS_1_D', 'Res_SS_2_D', 'Calendar_DateTime(days)'],\n",
       "      dtype='object')"
      ]
     },
     "execution_count": 17,
     "metadata": {},
     "output_type": "execute_result"
    }
   ],
   "source": [
    "sum_obj.summary_data.columns"
   ]
  },
  {
   "cell_type": "markdown",
   "metadata": {},
   "source": [
    "## Generating Summary data for all files\n",
    "Note: this will overwrite files that are currently in the save_path directory\n"
   ]
  },
  {
   "cell_type": "code",
   "execution_count": 18,
   "metadata": {},
   "outputs": [
    {
     "name": "stdout",
     "output_type": "stream",
     "text": [
      "Panasonic NCR18650GA\n"
     ]
    },
    {
     "name": "stderr",
     "output_type": "stream",
     "text": [
      "100%|██████████| 36/36 [00:10<00:00,  3.55it/s]\n"
     ]
    },
    {
     "name": "stdout",
     "output_type": "stream",
     "text": [
      "[]\n",
      "Panasonic NCR18650B\n"
     ]
    },
    {
     "name": "stderr",
     "output_type": "stream",
     "text": [
      "100%|██████████| 28/28 [00:21<00:00,  1.28it/s]\n"
     ]
    },
    {
     "name": "stdout",
     "output_type": "stream",
     "text": [
      "[]\n",
      "Ultralife UBP001\n"
     ]
    },
    {
     "name": "stderr",
     "output_type": "stream",
     "text": [
      "100%|██████████| 18/18 [00:02<00:00,  7.28it/s]\n"
     ]
    },
    {
     "name": "stdout",
     "output_type": "stream",
     "text": [
      "[]\n",
      "Ultralife 502030\n"
     ]
    },
    {
     "name": "stderr",
     "output_type": "stream",
     "text": [
      "100%|██████████| 20/20 [00:17<00:00,  1.14it/s]\n"
     ]
    },
    {
     "name": "stdout",
     "output_type": "stream",
     "text": [
      "[]\n",
      "Sony-Murata US18650VTC6\n"
     ]
    },
    {
     "name": "stderr",
     "output_type": "stream",
     "text": [
      "100%|██████████| 18/18 [00:08<00:00,  2.17it/s]\n"
     ]
    },
    {
     "name": "stdout",
     "output_type": "stream",
     "text": [
      "[]\n",
      "K2 Energy LFP18650P\n"
     ]
    },
    {
     "name": "stderr",
     "output_type": "stream",
     "text": [
      "100%|██████████| 40/40 [00:49<00:00,  1.24s/it]\n"
     ]
    },
    {
     "name": "stdout",
     "output_type": "stream",
     "text": [
      "[]\n",
      "Tenergy 302030\n"
     ]
    },
    {
     "name": "stderr",
     "output_type": "stream",
     "text": [
      "100%|██████████| 32/32 [00:15<00:00,  2.12it/s]\n"
     ]
    },
    {
     "name": "stdout",
     "output_type": "stream",
     "text": [
      "[]\n",
      "K2 Energy LFP18650E\n"
     ]
    },
    {
     "name": "stderr",
     "output_type": "stream",
     "text": [
      "100%|██████████| 40/40 [01:01<00:00,  1.54s/it]"
     ]
    },
    {
     "name": "stdout",
     "output_type": "stream",
     "text": [
      "[]\n"
     ]
    },
    {
     "name": "stderr",
     "output_type": "stream",
     "text": [
      "\n"
     ]
    }
   ],
   "source": [
    "#Generate the summary data for all cells\n",
    "cell_type_list = [\"Panasonic NCR18650GA\", \"Panasonic NCR18650B\", \"Ultralife UBP001\", \"Ultralife 502030\",\n",
    "                    \"Sony-Murata US18650VTC6\", \"K2 Energy LFP18650P\", \"Tenergy 302030\", \"K2 Energy LFP18650E\"]\n",
    "\n",
    "\n",
    "                    \n",
    "raw_path = \"../../joule_declass_raw/\"\n",
    "save_path = \"../../joule_declass_sum/\"\n",
    "cell_id_csv_folder = \"../\"\n",
    "for cell_type in cell_type_list:\n",
    "    print(cell_type)\n",
    "    print(generate_sum_data(cell_type, raw_path, save_path, cell_id_csv_folder, overwrite=True))"
   ]
  },
  {
   "cell_type": "code",
   "execution_count": null,
   "metadata": {},
   "outputs": [],
   "source": []
  }
 ],
 "metadata": {
  "kernelspec": {
   "display_name": "Python 3.9.6 ('.venv': venv)",
   "language": "python",
   "name": "python3"
  },
  "language_info": {
   "codemirror_mode": {
    "name": "ipython",
    "version": 3
   },
   "file_extension": ".py",
   "mimetype": "text/x-python",
   "name": "python",
   "nbconvert_exporter": "python",
   "pygments_lexer": "ipython3",
   "version": "3.9.6"
  },
  "orig_nbformat": 4,
  "vscode": {
   "interpreter": {
    "hash": "57e2ee85667cc0b4e6c269a9e52dcede5b1b9f359207859b06893616b62f5f63"
   }
  }
 },
 "nbformat": 4,
 "nbformat_minor": 2
}
